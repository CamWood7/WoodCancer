{
 "cells": [
  {
   "cell_type": "markdown",
   "id": "e496179f",
   "metadata": {},
   "source": [
    "GitHub: https://github.com/CamWood7/WoodCancer/"
   ]
  },
  {
   "cell_type": "code",
   "execution_count": 1,
   "id": "a264123e",
   "metadata": {
    "_cell_guid": "b1076dfc-b9ad-4769-8c92-a6c4dae69d19",
    "_uuid": "8f2839f25d086af736a60e9eeb907d3b93b6e0e5",
    "execution": {
     "iopub.execute_input": "2024-10-11T15:21:00.307703Z",
     "iopub.status.busy": "2024-10-11T15:21:00.307270Z",
     "iopub.status.idle": "2024-10-11T15:21:18.048710Z",
     "shell.execute_reply": "2024-10-11T15:21:18.047613Z"
    },
    "papermill": {
     "duration": 17.753295,
     "end_time": "2024-10-11T15:21:18.051227",
     "exception": false,
     "start_time": "2024-10-11T15:21:00.297932",
     "status": "completed"
    },
    "tags": []
   },
   "outputs": [],
   "source": [
    "import os\n",
    "import numpy as np\n",
    "import pandas as pd\n",
    "import tensorflow as tf\n",
    "from PIL import Image\n",
    "import matplotlib.pyplot as plt\n",
    "import seaborn as sns\n",
    "from tensorflow.keras.models import Sequential\n",
    "from tensorflow.keras.layers import Conv2D, MaxPooling2D, GlobalAveragePooling2D, Dense, Dropout, BatchNormalization\n",
    "from tensorflow.keras.optimizers import Adam\n",
    "from tensorflow.keras.preprocessing.image import ImageDataGenerator\n",
    "from sklearn.model_selection import train_test_split\n",
    "from sklearn.metrics import classification_report"
   ]
  },
  {
   "cell_type": "markdown",
   "id": "e5f7f679",
   "metadata": {
    "papermill": {
     "duration": 0.006565,
     "end_time": "2024-10-11T15:21:18.065420",
     "exception": false,
     "start_time": "2024-10-11T15:21:18.058855",
     "status": "completed"
    },
    "tags": []
   },
   "source": [
    "# Description of Problem"
   ]
  },
  {
   "cell_type": "markdown",
   "id": "90a29c0f",
   "metadata": {
    "papermill": {
     "duration": 0.006358,
     "end_time": "2024-10-11T15:21:18.078618",
     "exception": false,
     "start_time": "2024-10-11T15:21:18.072260",
     "status": "completed"
    },
    "tags": []
   },
   "source": [
    "Convolutional Neural Networks are a class of deep learning models designed to process data with grid-like topology, namely with images. These networks excel in image-related tasks by using convolutional layers to automatically learn and extract spatial features. Each layer applies filters to the input image, and identifies patters. We can introduce pooling layers to reduce dimensions with preserving important features, and everything maps to a final output.\n",
    "\n",
    "This data set is a binary classification problem involving the identification of metastatic cancer in small image patches from larger pathology scans. The goal is to develop an algorithm that distinguishes between cancerous and non-cancerous tissue. "
   ]
  },
  {
   "cell_type": "markdown",
   "id": "67a87acb",
   "metadata": {
    "papermill": {
     "duration": 0.006509,
     "end_time": "2024-10-11T15:21:18.091820",
     "exception": false,
     "start_time": "2024-10-11T15:21:18.085311",
     "status": "completed"
    },
    "tags": []
   },
   "source": [
    "# EDA"
   ]
  },
  {
   "cell_type": "markdown",
   "id": "76f02f1c",
   "metadata": {
    "papermill": {
     "duration": 0.006412,
     "end_time": "2024-10-11T15:21:18.105861",
     "exception": false,
     "start_time": "2024-10-11T15:21:18.099449",
     "status": "completed"
    },
    "tags": []
   },
   "source": [
    "We'll start by loading in the training data and the validation data, which will be used at submission."
   ]
  },
  {
   "cell_type": "code",
   "execution_count": 2,
   "id": "b3a0517d",
   "metadata": {
    "execution": {
     "iopub.execute_input": "2024-10-11T15:21:18.121480Z",
     "iopub.status.busy": "2024-10-11T15:21:18.120786Z",
     "iopub.status.idle": "2024-10-11T15:21:18.484683Z",
     "shell.execute_reply": "2024-10-11T15:21:18.483607Z"
    },
    "papermill": {
     "duration": 0.374809,
     "end_time": "2024-10-11T15:21:18.487454",
     "exception": false,
     "start_time": "2024-10-11T15:21:18.112645",
     "status": "completed"
    },
    "tags": []
   },
   "outputs": [],
   "source": [
    "trainPath = '/kaggle/input/histopathologic-cancer-detection/train/'\n",
    "testPath = '/kaggle/input/histopathologic-cancer-detection/test/'\n",
    "labels = pd.read_csv('/kaggle/input/histopathologic-cancer-detection/train_labels.csv')"
   ]
  },
  {
   "cell_type": "markdown",
   "id": "a934970e",
   "metadata": {
    "papermill": {
     "duration": 0.006731,
     "end_time": "2024-10-11T15:21:18.501341",
     "exception": false,
     "start_time": "2024-10-11T15:21:18.494610",
     "status": "completed"
    },
    "tags": []
   },
   "source": [
    "We can now look at the example of our labels, and see that we have 440,050 examples of data to work with."
   ]
  },
  {
   "cell_type": "code",
   "execution_count": 3,
   "id": "861cc262",
   "metadata": {
    "execution": {
     "iopub.execute_input": "2024-10-11T15:21:18.517907Z",
     "iopub.status.busy": "2024-10-11T15:21:18.516757Z",
     "iopub.status.idle": "2024-10-11T15:21:18.535270Z",
     "shell.execute_reply": "2024-10-11T15:21:18.533981Z"
    },
    "papermill": {
     "duration": 0.02916,
     "end_time": "2024-10-11T15:21:18.537716",
     "exception": false,
     "start_time": "2024-10-11T15:21:18.508556",
     "status": "completed"
    },
    "tags": []
   },
   "outputs": [
    {
     "name": "stdout",
     "output_type": "stream",
     "text": [
      "                                         id  label\n",
      "0  f38a6374c348f90b587e046aac6079959adf3835      0\n",
      "1  c18f2d887b7ae4f6742ee445113fa1aef383ed77      1\n",
      "2  755db6279dae599ebb4d39a9123cce439965282d      0\n",
      "3  bc3f0c64fb968ff4a8bd33af6971ecae77c75e08      0\n",
      "4  068aba587a4950175d04c680d38943fd488d6a9d      0\n",
      "440050\n"
     ]
    }
   ],
   "source": [
    "print(labels.head())\n",
    "print(labels.size)"
   ]
  },
  {
   "cell_type": "markdown",
   "id": "8d082784",
   "metadata": {
    "papermill": {
     "duration": 0.006861,
     "end_time": "2024-10-11T15:21:18.551654",
     "exception": false,
     "start_time": "2024-10-11T15:21:18.544793",
     "status": "completed"
    },
    "tags": []
   },
   "source": [
    "We'll look at examples of a handful of the Cancer Positive and Cancer Negative images. The images themselves are 96x96 in size, with 3 color channels."
   ]
  },
  {
   "cell_type": "code",
   "execution_count": 4,
   "id": "ce6117ac",
   "metadata": {
    "execution": {
     "iopub.execute_input": "2024-10-11T15:21:18.567346Z",
     "iopub.status.busy": "2024-10-11T15:21:18.566922Z",
     "iopub.status.idle": "2024-10-11T15:21:19.106285Z",
     "shell.execute_reply": "2024-10-11T15:21:19.105106Z"
    },
    "papermill": {
     "duration": 0.550717,
     "end_time": "2024-10-11T15:21:19.109286",
     "exception": false,
     "start_time": "2024-10-11T15:21:18.558569",
     "status": "completed"
    },
    "tags": []
   },
   "outputs": [
    {
     "data": {
      "image/png": "[encoded data removed]",
      "text/plain": [
       "<Figure size 1000x600 with 3 Axes>"
      ]
     },
     "metadata": {},
     "output_type": "display_data"
    },
    {
     "data": {
      "image/png": "[encoded data removed]",
      "text/plain": [
       "<Figure size 1000x600 with 3 Axes>"
      ]
     },
     "metadata": {},
     "output_type": "display_data"
    }
   ],
   "source": [
    "def pltImages(ids, labels, path, title):\n",
    "    plt.figure(figsize=(10,6))\n",
    "    for i, (imgId, label) in enumerate(zip(ids, labels)):\n",
    "        imgPath = os.path.join(path, imgId + '.tif')\n",
    "        img = Image.open(imgPath)\n",
    "        plt.subplot(1, len(imgId), i+1)\n",
    "        plt.imshow(img)\n",
    "        plt.title(f'Label: {label}')\n",
    "        plt.axis('off')\n",
    "    plt.suptitle(title)\n",
    "    plt.show()\n",
    "    \n",
    "pltImages(labels[labels['label'] == 0]['id'][:3], [0]*3, trainPath, 'Cancer Positive')\n",
    "pltImages(labels[labels['label'] == 1]['id'][:3], [1]*3, trainPath, 'Cancer Negative')"
   ]
  },
  {
   "cell_type": "markdown",
   "id": "24c51cf6",
   "metadata": {
    "papermill": {
     "duration": 0.007161,
     "end_time": "2024-10-11T15:21:19.126098",
     "exception": false,
     "start_time": "2024-10-11T15:21:19.118937",
     "status": "completed"
    },
    "tags": []
   },
   "source": [
    "And now we can look at the distribution of Cancer Positive and Cancer Negative Images. They are relatively even, with a slight bias towards Cancer Negative images."
   ]
  },
  {
   "cell_type": "code",
   "execution_count": 5,
   "id": "6f4b3393",
   "metadata": {
    "execution": {
     "iopub.execute_input": "2024-10-11T15:21:19.142765Z",
     "iopub.status.busy": "2024-10-11T15:21:19.142324Z",
     "iopub.status.idle": "2024-10-11T15:21:19.396570Z",
     "shell.execute_reply": "2024-10-11T15:21:19.395450Z"
    },
    "papermill": {
     "duration": 0.265368,
     "end_time": "2024-10-11T15:21:19.398994",
     "exception": false,
     "start_time": "2024-10-11T15:21:19.133626",
     "status": "completed"
    },
    "tags": []
   },
   "outputs": [
    {
     "data": {
      "image/png": "[encoded data removed]",
      "text/plain": [
       "<Figure size 1000x600 with 1 Axes>"
      ]
     },
     "metadata": {},
     "output_type": "display_data"
    }
   ],
   "source": [
    "plt.figure(figsize=(10,6))\n",
    "sns.countplot(x='label', data=labels)\n",
    "plt.title('Frequency of Cancer Labels')\n",
    "plt.xlabel('Label')\n",
    "plt.ylabel('Frequency')\n",
    "plt.xticks(ticks=[0,1],labels=['Negative','Positive'])\n",
    "plt.show()"
   ]
  },
  {
   "cell_type": "markdown",
   "id": "0e6c1899",
   "metadata": {
    "papermill": {
     "duration": 0.007863,
     "end_time": "2024-10-11T15:21:19.414798",
     "exception": false,
     "start_time": "2024-10-11T15:21:19.406935",
     "status": "completed"
    },
    "tags": []
   },
   "source": [
    "Now we can pre-process the data. We'll start by splitting the training data into 20% test and 80% train. We'll then convert the labels into strings instead of ints to agree with the flow_from_dataframe input, and then set up the paths. We finally normalize the images and alter the orientation."
   ]
  },
  {
   "cell_type": "code",
   "execution_count": 6,
   "id": "c0702706",
   "metadata": {
    "execution": {
     "iopub.execute_input": "2024-10-11T15:21:19.433275Z",
     "iopub.status.busy": "2024-10-11T15:21:19.432103Z",
     "iopub.status.idle": "2024-10-11T15:29:04.002085Z",
     "shell.execute_reply": "2024-10-11T15:29:04.000810Z"
    },
    "papermill": {
     "duration": 464.582004,
     "end_time": "2024-10-11T15:29:04.004771",
     "exception": false,
     "start_time": "2024-10-11T15:21:19.422767",
     "status": "completed"
    },
    "tags": []
   },
   "outputs": [
    {
     "name": "stdout",
     "output_type": "stream",
     "text": [
      "After Generator\n",
      "Found 176020 validated image filenames belonging to 2 classes.\n",
      "After TrainGen\n",
      "Found 44005 validated image filenames belonging to 2 classes.\n"
     ]
    }
   ],
   "source": [
    "trainLab, valLab = train_test_split(labels, test_size = 0.2, stratify = labels['label'], random_state=11)\n",
    "\n",
    "trainLab['label'] = trainLab['label'].astype(str)\n",
    "valLab['label'] = valLab['label'].astype(str)\n",
    "\n",
    "trainLab['path'] = trainLab['id'] + '.tif'\n",
    "valLab['path'] = valLab['id'] + '.tif'\n",
    "\n",
    "trainGen = ImageDataGenerator(rescale = 1./255, horizontal_flip = True, vertical_flip = True)\n",
    "valGen = ImageDataGenerator(rescale = 1./255)\n",
    "\n",
    "print(\"After Generator\")\n",
    "trainData = trainGen.flow_from_dataframe(dataframe = trainLab,\n",
    "                                        directory = trainPath,\n",
    "                                        x_col = 'path',\n",
    "                                        y_col = 'label',\n",
    "                                        target_size = (96,96),\n",
    "                                        batch_size = 32,\n",
    "                                        class_mode = 'binary')\n",
    "\n",
    "print(\"After TrainGen\")\n",
    "valData = valGen.flow_from_dataframe(dataframe = valLab,\n",
    "                                        directory = trainPath,\n",
    "                                        x_col = 'path',\n",
    "                                        y_col = 'label',\n",
    "                                        target_size = (96,96),\n",
    "                                        batch_size = 32,\n",
    "                                        class_mode = 'binary')"
   ]
  },
  {
   "cell_type": "markdown",
   "id": "5eb3a9df",
   "metadata": {
    "papermill": {
     "duration": 0.007927,
     "end_time": "2024-10-11T15:29:04.020924",
     "exception": false,
     "start_time": "2024-10-11T15:29:04.012997",
     "status": "completed"
    },
    "tags": []
   },
   "source": [
    "# Model Building and Training"
   ]
  },
  {
   "cell_type": "markdown",
   "id": "dfe21250",
   "metadata": {
    "papermill": {
     "duration": 0.007775,
     "end_time": "2024-10-11T15:29:04.036772",
     "exception": false,
     "start_time": "2024-10-11T15:29:04.028997",
     "status": "completed"
    },
    "tags": []
   },
   "source": [
    "We'll start off with a pretty basic CNN model to start, and this will help us do our hyper parameter tuning without waiting too long on training time.\n",
    "\n",
    "We have the input layer with the shape of the input images (96x96x3), and then followed by two convolutional layers. The first applies 16 filters of size 3x3, and then next has 32 filters of the same size. Each have ReLU padding with batch normalization. We add in a Global Average Pooling layer to reduce the dimensionality of features. Finally we have the fully connected dense layer with 64 units, and a dropout rate of 50% to try and prevent overfitting. The final layer has 2 units with a sigmoid activation function."
   ]
  },
  {
   "cell_type": "code",
   "execution_count": 7,
   "id": "d1bc2147",
   "metadata": {
    "execution": {
     "iopub.execute_input": "2024-10-11T15:29:04.055265Z",
     "iopub.status.busy": "2024-10-11T15:29:04.054415Z",
     "iopub.status.idle": "2024-10-11T15:29:04.307593Z",
     "shell.execute_reply": "2024-10-11T15:29:04.306518Z"
    },
    "papermill": {
     "duration": 0.264806,
     "end_time": "2024-10-11T15:29:04.309806",
     "exception": false,
     "start_time": "2024-10-11T15:29:04.045000",
     "status": "completed"
    },
    "tags": []
   },
   "outputs": [
    {
     "name": "stderr",
     "output_type": "stream",
     "text": [
      "/opt/conda/lib/python3.10/site-packages/keras/src/layers/convolutional/base_conv.py:107: UserWarning: Do not pass an `input_shape`/`input_dim` argument to a layer. When using Sequential models, prefer using an `Input(shape)` object as the first layer in the model instead.\n",
      "  super().__init__(activity_regularizer=activity_regularizer, **kwargs)\n"
     ]
    },
    {
     "data": {
      "text/html": [
       "<pre style=\"white-space:pre;overflow-x:auto;line-height:normal;font-family:Menlo,'DejaVu Sans Mono',consolas,'Courier New',monospace\"><span style=\"font-weight: bold\">Model: \"sequential\"</span>\n",
       "</pre>\n"
      ],
      "text/plain": [
       "\u001b[1mModel: \"sequential\"\u001b[0m\n"
      ]
     },
     "metadata": {},
     "output_type": "display_data"
    },
    {
     "data": {
      "text/html": [
       "<pre style=\"white-space:pre;overflow-x:auto;line-height:normal;font-family:Menlo,'DejaVu Sans Mono',consolas,'Courier New',monospace\">┏━━━━━━━━━━━━━━━━━━━━━━━━━━━━━━━━━┳━━━━━━━━━━━━━━━━━━━━━━━━┳━━━━━━━━━━━━━━━┓\n",
       "┃<span style=\"font-weight: bold\"> Layer (type)                    </span>┃<span style=\"font-weight: bold\"> Output Shape           </span>┃<span style=\"font-weight: bold\">       Param # </span>┃\n",
       "┡━━━━━━━━━━━━━━━━━━━━━━━━━━━━━━━━━╇━━━━━━━━━━━━━━━━━━━━━━━━╇━━━━━━━━━━━━━━━┩\n",
       "│ conv2d (<span style=\"color: #0087ff; text-decoration-color: #0087ff\">Conv2D</span>)                 │ (<span style=\"color: #00d7ff; text-decoration-color: #00d7ff\">None</span>, <span style=\"color: #00af00; text-decoration-color: #00af00\">96</span>, <span style=\"color: #00af00; text-decoration-color: #00af00\">96</span>, <span style=\"color: #00af00; text-decoration-color: #00af00\">16</span>)     │           <span style=\"color: #00af00; text-decoration-color: #00af00\">448</span> │\n",
       "├─────────────────────────────────┼────────────────────────┼───────────────┤\n",
       "│ batch_normalization             │ (<span style=\"color: #00d7ff; text-decoration-color: #00d7ff\">None</span>, <span style=\"color: #00af00; text-decoration-color: #00af00\">96</span>, <span style=\"color: #00af00; text-decoration-color: #00af00\">96</span>, <span style=\"color: #00af00; text-decoration-color: #00af00\">16</span>)     │            <span style=\"color: #00af00; text-decoration-color: #00af00\">64</span> │\n",
       "│ (<span style=\"color: #0087ff; text-decoration-color: #0087ff\">BatchNormalization</span>)            │                        │               │\n",
       "├─────────────────────────────────┼────────────────────────┼───────────────┤\n",
       "│ max_pooling2d (<span style=\"color: #0087ff; text-decoration-color: #0087ff\">MaxPooling2D</span>)    │ (<span style=\"color: #00d7ff; text-decoration-color: #00d7ff\">None</span>, <span style=\"color: #00af00; text-decoration-color: #00af00\">48</span>, <span style=\"color: #00af00; text-decoration-color: #00af00\">48</span>, <span style=\"color: #00af00; text-decoration-color: #00af00\">16</span>)     │             <span style=\"color: #00af00; text-decoration-color: #00af00\">0</span> │\n",
       "├─────────────────────────────────┼────────────────────────┼───────────────┤\n",
       "│ conv2d_1 (<span style=\"color: #0087ff; text-decoration-color: #0087ff\">Conv2D</span>)               │ (<span style=\"color: #00d7ff; text-decoration-color: #00d7ff\">None</span>, <span style=\"color: #00af00; text-decoration-color: #00af00\">48</span>, <span style=\"color: #00af00; text-decoration-color: #00af00\">48</span>, <span style=\"color: #00af00; text-decoration-color: #00af00\">32</span>)     │         <span style=\"color: #00af00; text-decoration-color: #00af00\">4,640</span> │\n",
       "├─────────────────────────────────┼────────────────────────┼───────────────┤\n",
       "│ batch_normalization_1           │ (<span style=\"color: #00d7ff; text-decoration-color: #00d7ff\">None</span>, <span style=\"color: #00af00; text-decoration-color: #00af00\">48</span>, <span style=\"color: #00af00; text-decoration-color: #00af00\">48</span>, <span style=\"color: #00af00; text-decoration-color: #00af00\">32</span>)     │           <span style=\"color: #00af00; text-decoration-color: #00af00\">128</span> │\n",
       "│ (<span style=\"color: #0087ff; text-decoration-color: #0087ff\">BatchNormalization</span>)            │                        │               │\n",
       "├─────────────────────────────────┼────────────────────────┼───────────────┤\n",
       "│ max_pooling2d_1 (<span style=\"color: #0087ff; text-decoration-color: #0087ff\">MaxPooling2D</span>)  │ (<span style=\"color: #00d7ff; text-decoration-color: #00d7ff\">None</span>, <span style=\"color: #00af00; text-decoration-color: #00af00\">24</span>, <span style=\"color: #00af00; text-decoration-color: #00af00\">24</span>, <span style=\"color: #00af00; text-decoration-color: #00af00\">32</span>)     │             <span style=\"color: #00af00; text-decoration-color: #00af00\">0</span> │\n",
       "├─────────────────────────────────┼────────────────────────┼───────────────┤\n",
       "│ global_average_pooling2d        │ (<span style=\"color: #00d7ff; text-decoration-color: #00d7ff\">None</span>, <span style=\"color: #00af00; text-decoration-color: #00af00\">32</span>)             │             <span style=\"color: #00af00; text-decoration-color: #00af00\">0</span> │\n",
       "│ (<span style=\"color: #0087ff; text-decoration-color: #0087ff\">GlobalAveragePooling2D</span>)        │                        │               │\n",
       "├─────────────────────────────────┼────────────────────────┼───────────────┤\n",
       "│ dense (<span style=\"color: #0087ff; text-decoration-color: #0087ff\">Dense</span>)                   │ (<span style=\"color: #00d7ff; text-decoration-color: #00d7ff\">None</span>, <span style=\"color: #00af00; text-decoration-color: #00af00\">64</span>)             │         <span style=\"color: #00af00; text-decoration-color: #00af00\">2,112</span> │\n",
       "├─────────────────────────────────┼────────────────────────┼───────────────┤\n",
       "│ dropout (<span style=\"color: #0087ff; text-decoration-color: #0087ff\">Dropout</span>)               │ (<span style=\"color: #00d7ff; text-decoration-color: #00d7ff\">None</span>, <span style=\"color: #00af00; text-decoration-color: #00af00\">64</span>)             │             <span style=\"color: #00af00; text-decoration-color: #00af00\">0</span> │\n",
       "├─────────────────────────────────┼────────────────────────┼───────────────┤\n",
       "│ dense_1 (<span style=\"color: #0087ff; text-decoration-color: #0087ff\">Dense</span>)                 │ (<span style=\"color: #00d7ff; text-decoration-color: #00d7ff\">None</span>, <span style=\"color: #00af00; text-decoration-color: #00af00\">2</span>)              │           <span style=\"color: #00af00; text-decoration-color: #00af00\">130</span> │\n",
       "└─────────────────────────────────┴────────────────────────┴───────────────┘\n",
       "</pre>\n"
      ],
      "text/plain": [
       "┏━━━━━━━━━━━━━━━━━━━━━━━━━━━━━━━━━┳━━━━━━━━━━━━━━━━━━━━━━━━┳━━━━━━━━━━━━━━━┓\n",
       "┃\u001b[1m \u001b[0m\u001b[1mLayer (type)                   \u001b[0m\u001b[1m \u001b[0m┃\u001b[1m \u001b[0m\u001b[1mOutput Shape          \u001b[0m\u001b[1m \u001b[0m┃\u001b[1m \u001b[0m\u001b[1m      Param #\u001b[0m\u001b[1m \u001b[0m┃\n",
       "┡━━━━━━━━━━━━━━━━━━━━━━━━━━━━━━━━━╇━━━━━━━━━━━━━━━━━━━━━━━━╇━━━━━━━━━━━━━━━┩\n",
       "│ conv2d (\u001b[38;5;33mConv2D\u001b[0m)                 │ (\u001b[38;5;45mNone\u001b[0m, \u001b[38;5;34m96\u001b[0m, \u001b[38;5;34m96\u001b[0m, \u001b[38;5;34m16\u001b[0m)     │           \u001b[38;5;34m448\u001b[0m │\n",
       "├─────────────────────────────────┼────────────────────────┼───────────────┤\n",
       "│ batch_normalization             │ (\u001b[38;5;45mNone\u001b[0m, \u001b[38;5;34m96\u001b[0m, \u001b[38;5;34m96\u001b[0m, \u001b[38;5;34m16\u001b[0m)     │            \u001b[38;5;34m64\u001b[0m │\n",
       "│ (\u001b[38;5;33mBatchNormalization\u001b[0m)            │                        │               │\n",
       "├─────────────────────────────────┼────────────────────────┼───────────────┤\n",
       "│ max_pooling2d (\u001b[38;5;33mMaxPooling2D\u001b[0m)    │ (\u001b[38;5;45mNone\u001b[0m, \u001b[38;5;34m48\u001b[0m, \u001b[38;5;34m48\u001b[0m, \u001b[38;5;34m16\u001b[0m)     │             \u001b[38;5;34m0\u001b[0m │\n",
       "├─────────────────────────────────┼────────────────────────┼───────────────┤\n",
       "│ conv2d_1 (\u001b[38;5;33mConv2D\u001b[0m)               │ (\u001b[38;5;45mNone\u001b[0m, \u001b[38;5;34m48\u001b[0m, \u001b[38;5;34m48\u001b[0m, \u001b[38;5;34m32\u001b[0m)     │         \u001b[38;5;34m4,640\u001b[0m │\n",
       "├─────────────────────────────────┼────────────────────────┼───────────────┤\n",
       "│ batch_normalization_1           │ (\u001b[38;5;45mNone\u001b[0m, \u001b[38;5;34m48\u001b[0m, \u001b[38;5;34m48\u001b[0m, \u001b[38;5;34m32\u001b[0m)     │           \u001b[38;5;34m128\u001b[0m │\n",
       "│ (\u001b[38;5;33mBatchNormalization\u001b[0m)            │                        │               │\n",
       "├─────────────────────────────────┼────────────────────────┼───────────────┤\n",
       "│ max_pooling2d_1 (\u001b[38;5;33mMaxPooling2D\u001b[0m)  │ (\u001b[38;5;45mNone\u001b[0m, \u001b[38;5;34m24\u001b[0m, \u001b[38;5;34m24\u001b[0m, \u001b[38;5;34m32\u001b[0m)     │             \u001b[38;5;34m0\u001b[0m │\n",
       "├─────────────────────────────────┼────────────────────────┼───────────────┤\n",
       "│ global_average_pooling2d        │ (\u001b[38;5;45mNone\u001b[0m, \u001b[38;5;34m32\u001b[0m)             │             \u001b[38;5;34m0\u001b[0m │\n",
       "│ (\u001b[38;5;33mGlobalAveragePooling2D\u001b[0m)        │                        │               │\n",
       "├─────────────────────────────────┼────────────────────────┼───────────────┤\n",
       "│ dense (\u001b[38;5;33mDense\u001b[0m)                   │ (\u001b[38;5;45mNone\u001b[0m, \u001b[38;5;34m64\u001b[0m)             │         \u001b[38;5;34m2,112\u001b[0m │\n",
       "├─────────────────────────────────┼────────────────────────┼───────────────┤\n",
       "│ dropout (\u001b[38;5;33mDropout\u001b[0m)               │ (\u001b[38;5;45mNone\u001b[0m, \u001b[38;5;34m64\u001b[0m)             │             \u001b[38;5;34m0\u001b[0m │\n",
       "├─────────────────────────────────┼────────────────────────┼───────────────┤\n",
       "│ dense_1 (\u001b[38;5;33mDense\u001b[0m)                 │ (\u001b[38;5;45mNone\u001b[0m, \u001b[38;5;34m2\u001b[0m)              │           \u001b[38;5;34m130\u001b[0m │\n",
       "└─────────────────────────────────┴────────────────────────┴───────────────┘\n"
      ]
     },
     "metadata": {},
     "output_type": "display_data"
    },
    {
     "data": {
      "text/html": [
       "<pre style=\"white-space:pre;overflow-x:auto;line-height:normal;font-family:Menlo,'DejaVu Sans Mono',consolas,'Courier New',monospace\"><span style=\"font-weight: bold\"> Total params: </span><span style=\"color: #00af00; text-decoration-color: #00af00\">7,522</span> (29.38 KB)\n",
       "</pre>\n"
      ],
      "text/plain": [
       "\u001b[1m Total params: \u001b[0m\u001b[38;5;34m7,522\u001b[0m (29.38 KB)\n"
      ]
     },
     "metadata": {},
     "output_type": "display_data"
    },
    {
     "data": {
      "text/html": [
       "<pre style=\"white-space:pre;overflow-x:auto;line-height:normal;font-family:Menlo,'DejaVu Sans Mono',consolas,'Courier New',monospace\"><span style=\"font-weight: bold\"> Trainable params: </span><span style=\"color: #00af00; text-decoration-color: #00af00\">7,426</span> (29.01 KB)\n",
       "</pre>\n"
      ],
      "text/plain": [
       "\u001b[1m Trainable params: \u001b[0m\u001b[38;5;34m7,426\u001b[0m (29.01 KB)\n"
      ]
     },
     "metadata": {},
     "output_type": "display_data"
    },
    {
     "data": {
      "text/html": [
       "<pre style=\"white-space:pre;overflow-x:auto;line-height:normal;font-family:Menlo,'DejaVu Sans Mono',consolas,'Courier New',monospace\"><span style=\"font-weight: bold\"> Non-trainable params: </span><span style=\"color: #00af00; text-decoration-color: #00af00\">96</span> (384.00 B)\n",
       "</pre>\n"
      ],
      "text/plain": [
       "\u001b[1m Non-trainable params: \u001b[0m\u001b[38;5;34m96\u001b[0m (384.00 B)\n"
      ]
     },
     "metadata": {},
     "output_type": "display_data"
    }
   ],
   "source": [
    "def createModel(shape):\n",
    "    model = Sequential()\n",
    "    \n",
    "    model.add(Conv2D(16, (3, 3), activation='relu', padding='same', input_shape=shape))\n",
    "    model.add(BatchNormalization())\n",
    "    model.add(MaxPooling2D((2, 2)))\n",
    "    \n",
    "    model.add(Conv2D(32, (3, 3), activation='relu', padding='same'))\n",
    "    model.add(BatchNormalization())\n",
    "    model.add(MaxPooling2D((2, 2)))\n",
    "    \n",
    "    model.add(GlobalAveragePooling2D())\n",
    "    \n",
    "    model.add(Dense(64, activation='relu'))\n",
    "    model.add(Dropout(0.5))\n",
    "    \n",
    "    model.add(Dense(2, activation='sigmoid'))\n",
    "    \n",
    "    return model\n",
    "\n",
    "shape = (96, 96, 3)\n",
    "\n",
    "model = createModel(shape)\n",
    "\n",
    "model.compile(optimizer=Adam(learning_rate=0.001), loss='sparse_categorical_crossentropy', metrics=['accuracy'])\n",
    "\n",
    "model.summary()\n",
    "\n",
    "modelBase = model\n",
    "modelLargeBatch = model\n",
    "modelLongEpoch = model"
   ]
  },
  {
   "cell_type": "markdown",
   "id": "7211d98a",
   "metadata": {
    "papermill": {
     "duration": 0.008915,
     "end_time": "2024-10-11T15:29:04.328230",
     "exception": false,
     "start_time": "2024-10-11T15:29:04.319315",
     "status": "completed"
    },
    "tags": []
   },
   "source": [
    "We'll first start by changing the batch_size input for fitting to see how that impacts the accuracy and loss."
   ]
  },
  {
   "cell_type": "code",
   "execution_count": 8,
   "id": "b54b2c64",
   "metadata": {
    "execution": {
     "iopub.execute_input": "2024-10-11T15:29:04.348643Z",
     "iopub.status.busy": "2024-10-11T15:29:04.347931Z",
     "iopub.status.idle": "2024-10-11T15:54:08.413715Z",
     "shell.execute_reply": "2024-10-11T15:54:08.412121Z"
    },
    "papermill": {
     "duration": 1504.476227,
     "end_time": "2024-10-11T15:54:08.813687",
     "exception": false,
     "start_time": "2024-10-11T15:29:04.337460",
     "status": "completed"
    },
    "tags": []
   },
   "outputs": [
    {
     "name": "stderr",
     "output_type": "stream",
     "text": [
      "/opt/conda/lib/python3.10/site-packages/keras/src/trainers/data_adapters/py_dataset_adapter.py:121: UserWarning: Your `PyDataset` class should call `super().__init__(**kwargs)` in its constructor. `**kwargs` can include `workers`, `use_multiprocessing`, `max_queue_size`. Do not pass these arguments to `fit()`, as they will be ignored.\n",
      "  self._warn_if_super_not_called()\n"
     ]
    },
    {
     "name": "stdout",
     "output_type": "stream",
     "text": [
      "\u001b[1m5501/5501\u001b[0m \u001b[32m━━━━━━━━━━━━━━━━━━━━\u001b[0m\u001b[37m\u001b[0m \u001b[1m1503s\u001b[0m 273ms/step - accuracy: 0.8077 - loss: 0.4330 - val_accuracy: 0.8009 - val_loss: 0.4402\n"
     ]
    }
   ],
   "source": [
    "historyBase = modelBase.fit(trainData,\n",
    "                            epochs = 1,\n",
    "                            validation_data = valData)"
   ]
  },
  {
   "cell_type": "code",
   "execution_count": 9,
   "id": "a486bba8",
   "metadata": {
    "execution": {
     "iopub.execute_input": "2024-10-11T15:54:09.663148Z",
     "iopub.status.busy": "2024-10-11T15:54:09.662643Z",
     "iopub.status.idle": "2024-10-11T16:14:23.663016Z",
     "shell.execute_reply": "2024-10-11T16:14:23.661611Z"
    },
    "papermill": {
     "duration": 1215.201732,
     "end_time": "2024-10-11T16:14:24.486582",
     "exception": false,
     "start_time": "2024-10-11T15:54:09.284850",
     "status": "completed"
    },
    "tags": []
   },
   "outputs": [
    {
     "name": "stdout",
     "output_type": "stream",
     "text": [
      "\u001b[1m5501/5501\u001b[0m \u001b[32m━━━━━━━━━━━━━━━━━━━━\u001b[0m\u001b[37m\u001b[0m \u001b[1m1214s\u001b[0m 220ms/step - accuracy: 0.8583 - loss: 0.3391 - val_accuracy: 0.8776 - val_loss: 0.2968\n"
     ]
    }
   ],
   "source": [
    "historyLargeBatch = modelLargeBatch.fit(trainData,\n",
    "                                        epochs = 1,\n",
    "                                        batch_size = 64,\n",
    "                                        validation_data = valData)"
   ]
  },
  {
   "cell_type": "markdown",
   "id": "d97518e3",
   "metadata": {
    "papermill": {
     "duration": 0.827122,
     "end_time": "2024-10-11T16:14:26.064109",
     "exception": false,
     "start_time": "2024-10-11T16:14:25.236987",
     "status": "completed"
    },
    "tags": []
   },
   "source": [
    "The increased batch size seems to improve accuracy by about 5%, and lower the loss 10%. We'll move forward with a batch size of 64 images, and move on to increasing our number of epochs."
   ]
  },
  {
   "cell_type": "code",
   "execution_count": 10,
   "id": "c51b95e7",
   "metadata": {
    "execution": {
     "iopub.execute_input": "2024-10-11T16:14:27.607973Z",
     "iopub.status.busy": "2024-10-11T16:14:27.607542Z",
     "iopub.status.idle": "2024-10-11T17:44:49.718232Z",
     "shell.execute_reply": "2024-10-11T17:44:49.715003Z"
    },
    "papermill": {
     "duration": 5425.671311,
     "end_time": "2024-10-11T17:44:52.476604",
     "exception": false,
     "start_time": "2024-10-11T16:14:26.805293",
     "status": "completed"
    },
    "tags": []
   },
   "outputs": [
    {
     "name": "stdout",
     "output_type": "stream",
     "text": [
      "Epoch 1/5\n",
      "\u001b[1m5501/5501\u001b[0m \u001b[32m━━━━━━━━━━━━━━━━━━━━\u001b[0m\u001b[37m\u001b[0m \u001b[1m1133s\u001b[0m 206ms/step - accuracy: 0.8723 - loss: 0.3118 - val_accuracy: 0.7984 - val_loss: 0.4765\n",
      "Epoch 2/5\n",
      "\u001b[1m5501/5501\u001b[0m \u001b[32m━━━━━━━━━━━━━━━━━━━━\u001b[0m\u001b[37m\u001b[0m \u001b[1m1158s\u001b[0m 210ms/step - accuracy: 0.8801 - loss: 0.2934 - val_accuracy: 0.8588 - val_loss: 0.3775\n",
      "Epoch 3/5\n",
      "\u001b[1m5501/5501\u001b[0m \u001b[32m━━━━━━━━━━━━━━━━━━━━\u001b[0m\u001b[37m\u001b[0m \u001b[1m1048s\u001b[0m 190ms/step - accuracy: 0.8865 - loss: 0.2812 - val_accuracy: 0.8594 - val_loss: 0.3609\n",
      "Epoch 4/5\n",
      "\u001b[1m5501/5501\u001b[0m \u001b[32m━━━━━━━━━━━━━━━━━━━━\u001b[0m\u001b[37m\u001b[0m \u001b[1m1038s\u001b[0m 189ms/step - accuracy: 0.8907 - loss: 0.2746 - val_accuracy: 0.7734 - val_loss: 0.4754\n",
      "Epoch 5/5\n",
      "\u001b[1m5501/5501\u001b[0m \u001b[32m━━━━━━━━━━━━━━━━━━━━\u001b[0m\u001b[37m\u001b[0m \u001b[1m1045s\u001b[0m 190ms/step - accuracy: 0.8937 - loss: 0.2688 - val_accuracy: 0.8928 - val_loss: 0.2576\n"
     ]
    }
   ],
   "source": [
    "historyLongEpoch = modelLongEpoch.fit(trainData,\n",
    "                                      epochs = 5,\n",
    "                                      batch_size = 64,\n",
    "                                      validation_data = valData)"
   ]
  },
  {
   "cell_type": "markdown",
   "id": "12a02967",
   "metadata": {
    "papermill": {
     "duration": 2.802151,
     "end_time": "2024-10-11T17:44:57.977184",
     "exception": false,
     "start_time": "2024-10-11T17:44:55.175033",
     "status": "completed"
    },
    "tags": []
   },
   "source": [
    "Increasing the number of epochs allowed the model to improve training accuracy by 3%, and further reduced the loss."
   ]
  },
  {
   "cell_type": "markdown",
   "id": "505a4c9c",
   "metadata": {
    "papermill": {
     "duration": 2.743926,
     "end_time": "2024-10-11T17:45:03.378949",
     "exception": false,
     "start_time": "2024-10-11T17:45:00.635023",
     "status": "completed"
    },
    "tags": []
   },
   "source": [
    "We'll move onto another model, which adds in another convolutional layer with 64 filters. This will hopefully further refine the feature set and lead to improved training accuracy."
   ]
  },
  {
   "cell_type": "code",
   "execution_count": 11,
   "id": "75851c99",
   "metadata": {
    "execution": {
     "iopub.execute_input": "2024-10-11T17:45:08.869295Z",
     "iopub.status.busy": "2024-10-11T17:45:08.867578Z",
     "iopub.status.idle": "2024-10-11T17:45:09.170602Z",
     "shell.execute_reply": "2024-10-11T17:45:09.169257Z"
    },
    "papermill": {
     "duration": 3.061523,
     "end_time": "2024-10-11T17:45:09.172887",
     "exception": false,
     "start_time": "2024-10-11T17:45:06.111364",
     "status": "completed"
    },
    "tags": []
   },
   "outputs": [
    {
     "data": {
      "text/html": [
       "<pre style=\"white-space:pre;overflow-x:auto;line-height:normal;font-family:Menlo,'DejaVu Sans Mono',consolas,'Courier New',monospace\"><span style=\"font-weight: bold\">Model: \"sequential_1\"</span>\n",
       "</pre>\n"
      ],
      "text/plain": [
       "\u001b[1mModel: \"sequential_1\"\u001b[0m\n"
      ]
     },
     "metadata": {},
     "output_type": "display_data"
    },
    {
     "data": {
      "text/html": [
       "<pre style=\"white-space:pre;overflow-x:auto;line-height:normal;font-family:Menlo,'DejaVu Sans Mono',consolas,'Courier New',monospace\">┏━━━━━━━━━━━━━━━━━━━━━━━━━━━━━━━━━┳━━━━━━━━━━━━━━━━━━━━━━━━┳━━━━━━━━━━━━━━━┓\n",
       "┃<span style=\"font-weight: bold\"> Layer (type)                    </span>┃<span style=\"font-weight: bold\"> Output Shape           </span>┃<span style=\"font-weight: bold\">       Param # </span>┃\n",
       "┡━━━━━━━━━━━━━━━━━━━━━━━━━━━━━━━━━╇━━━━━━━━━━━━━━━━━━━━━━━━╇━━━━━━━━━━━━━━━┩\n",
       "│ conv2d_2 (<span style=\"color: #0087ff; text-decoration-color: #0087ff\">Conv2D</span>)               │ (<span style=\"color: #00d7ff; text-decoration-color: #00d7ff\">None</span>, <span style=\"color: #00af00; text-decoration-color: #00af00\">96</span>, <span style=\"color: #00af00; text-decoration-color: #00af00\">96</span>, <span style=\"color: #00af00; text-decoration-color: #00af00\">16</span>)     │           <span style=\"color: #00af00; text-decoration-color: #00af00\">448</span> │\n",
       "├─────────────────────────────────┼────────────────────────┼───────────────┤\n",
       "│ batch_normalization_2           │ (<span style=\"color: #00d7ff; text-decoration-color: #00d7ff\">None</span>, <span style=\"color: #00af00; text-decoration-color: #00af00\">96</span>, <span style=\"color: #00af00; text-decoration-color: #00af00\">96</span>, <span style=\"color: #00af00; text-decoration-color: #00af00\">16</span>)     │            <span style=\"color: #00af00; text-decoration-color: #00af00\">64</span> │\n",
       "│ (<span style=\"color: #0087ff; text-decoration-color: #0087ff\">BatchNormalization</span>)            │                        │               │\n",
       "├─────────────────────────────────┼────────────────────────┼───────────────┤\n",
       "│ max_pooling2d_2 (<span style=\"color: #0087ff; text-decoration-color: #0087ff\">MaxPooling2D</span>)  │ (<span style=\"color: #00d7ff; text-decoration-color: #00d7ff\">None</span>, <span style=\"color: #00af00; text-decoration-color: #00af00\">48</span>, <span style=\"color: #00af00; text-decoration-color: #00af00\">48</span>, <span style=\"color: #00af00; text-decoration-color: #00af00\">16</span>)     │             <span style=\"color: #00af00; text-decoration-color: #00af00\">0</span> │\n",
       "├─────────────────────────────────┼────────────────────────┼───────────────┤\n",
       "│ conv2d_3 (<span style=\"color: #0087ff; text-decoration-color: #0087ff\">Conv2D</span>)               │ (<span style=\"color: #00d7ff; text-decoration-color: #00d7ff\">None</span>, <span style=\"color: #00af00; text-decoration-color: #00af00\">48</span>, <span style=\"color: #00af00; text-decoration-color: #00af00\">48</span>, <span style=\"color: #00af00; text-decoration-color: #00af00\">32</span>)     │         <span style=\"color: #00af00; text-decoration-color: #00af00\">4,640</span> │\n",
       "├─────────────────────────────────┼────────────────────────┼───────────────┤\n",
       "│ batch_normalization_3           │ (<span style=\"color: #00d7ff; text-decoration-color: #00d7ff\">None</span>, <span style=\"color: #00af00; text-decoration-color: #00af00\">48</span>, <span style=\"color: #00af00; text-decoration-color: #00af00\">48</span>, <span style=\"color: #00af00; text-decoration-color: #00af00\">32</span>)     │           <span style=\"color: #00af00; text-decoration-color: #00af00\">128</span> │\n",
       "│ (<span style=\"color: #0087ff; text-decoration-color: #0087ff\">BatchNormalization</span>)            │                        │               │\n",
       "├─────────────────────────────────┼────────────────────────┼───────────────┤\n",
       "│ max_pooling2d_3 (<span style=\"color: #0087ff; text-decoration-color: #0087ff\">MaxPooling2D</span>)  │ (<span style=\"color: #00d7ff; text-decoration-color: #00d7ff\">None</span>, <span style=\"color: #00af00; text-decoration-color: #00af00\">24</span>, <span style=\"color: #00af00; text-decoration-color: #00af00\">24</span>, <span style=\"color: #00af00; text-decoration-color: #00af00\">32</span>)     │             <span style=\"color: #00af00; text-decoration-color: #00af00\">0</span> │\n",
       "├─────────────────────────────────┼────────────────────────┼───────────────┤\n",
       "│ conv2d_4 (<span style=\"color: #0087ff; text-decoration-color: #0087ff\">Conv2D</span>)               │ (<span style=\"color: #00d7ff; text-decoration-color: #00d7ff\">None</span>, <span style=\"color: #00af00; text-decoration-color: #00af00\">24</span>, <span style=\"color: #00af00; text-decoration-color: #00af00\">24</span>, <span style=\"color: #00af00; text-decoration-color: #00af00\">64</span>)     │        <span style=\"color: #00af00; text-decoration-color: #00af00\">18,496</span> │\n",
       "├─────────────────────────────────┼────────────────────────┼───────────────┤\n",
       "│ batch_normalization_4           │ (<span style=\"color: #00d7ff; text-decoration-color: #00d7ff\">None</span>, <span style=\"color: #00af00; text-decoration-color: #00af00\">24</span>, <span style=\"color: #00af00; text-decoration-color: #00af00\">24</span>, <span style=\"color: #00af00; text-decoration-color: #00af00\">64</span>)     │           <span style=\"color: #00af00; text-decoration-color: #00af00\">256</span> │\n",
       "│ (<span style=\"color: #0087ff; text-decoration-color: #0087ff\">BatchNormalization</span>)            │                        │               │\n",
       "├─────────────────────────────────┼────────────────────────┼───────────────┤\n",
       "│ max_pooling2d_4 (<span style=\"color: #0087ff; text-decoration-color: #0087ff\">MaxPooling2D</span>)  │ (<span style=\"color: #00d7ff; text-decoration-color: #00d7ff\">None</span>, <span style=\"color: #00af00; text-decoration-color: #00af00\">12</span>, <span style=\"color: #00af00; text-decoration-color: #00af00\">12</span>, <span style=\"color: #00af00; text-decoration-color: #00af00\">64</span>)     │             <span style=\"color: #00af00; text-decoration-color: #00af00\">0</span> │\n",
       "├─────────────────────────────────┼────────────────────────┼───────────────┤\n",
       "│ global_average_pooling2d_1      │ (<span style=\"color: #00d7ff; text-decoration-color: #00d7ff\">None</span>, <span style=\"color: #00af00; text-decoration-color: #00af00\">64</span>)             │             <span style=\"color: #00af00; text-decoration-color: #00af00\">0</span> │\n",
       "│ (<span style=\"color: #0087ff; text-decoration-color: #0087ff\">GlobalAveragePooling2D</span>)        │                        │               │\n",
       "├─────────────────────────────────┼────────────────────────┼───────────────┤\n",
       "│ dense_2 (<span style=\"color: #0087ff; text-decoration-color: #0087ff\">Dense</span>)                 │ (<span style=\"color: #00d7ff; text-decoration-color: #00d7ff\">None</span>, <span style=\"color: #00af00; text-decoration-color: #00af00\">64</span>)             │         <span style=\"color: #00af00; text-decoration-color: #00af00\">4,160</span> │\n",
       "├─────────────────────────────────┼────────────────────────┼───────────────┤\n",
       "│ dropout_1 (<span style=\"color: #0087ff; text-decoration-color: #0087ff\">Dropout</span>)             │ (<span style=\"color: #00d7ff; text-decoration-color: #00d7ff\">None</span>, <span style=\"color: #00af00; text-decoration-color: #00af00\">64</span>)             │             <span style=\"color: #00af00; text-decoration-color: #00af00\">0</span> │\n",
       "├─────────────────────────────────┼────────────────────────┼───────────────┤\n",
       "│ dense_3 (<span style=\"color: #0087ff; text-decoration-color: #0087ff\">Dense</span>)                 │ (<span style=\"color: #00d7ff; text-decoration-color: #00d7ff\">None</span>, <span style=\"color: #00af00; text-decoration-color: #00af00\">2</span>)              │           <span style=\"color: #00af00; text-decoration-color: #00af00\">130</span> │\n",
       "└─────────────────────────────────┴────────────────────────┴───────────────┘\n",
       "</pre>\n"
      ],
      "text/plain": [
       "┏━━━━━━━━━━━━━━━━━━━━━━━━━━━━━━━━━┳━━━━━━━━━━━━━━━━━━━━━━━━┳━━━━━━━━━━━━━━━┓\n",
       "┃\u001b[1m \u001b[0m\u001b[1mLayer (type)                   \u001b[0m\u001b[1m \u001b[0m┃\u001b[1m \u001b[0m\u001b[1mOutput Shape          \u001b[0m\u001b[1m \u001b[0m┃\u001b[1m \u001b[0m\u001b[1m      Param #\u001b[0m\u001b[1m \u001b[0m┃\n",
       "┡━━━━━━━━━━━━━━━━━━━━━━━━━━━━━━━━━╇━━━━━━━━━━━━━━━━━━━━━━━━╇━━━━━━━━━━━━━━━┩\n",
       "│ conv2d_2 (\u001b[38;5;33mConv2D\u001b[0m)               │ (\u001b[38;5;45mNone\u001b[0m, \u001b[38;5;34m96\u001b[0m, \u001b[38;5;34m96\u001b[0m, \u001b[38;5;34m16\u001b[0m)     │           \u001b[38;5;34m448\u001b[0m │\n",
       "├─────────────────────────────────┼────────────────────────┼───────────────┤\n",
       "│ batch_normalization_2           │ (\u001b[38;5;45mNone\u001b[0m, \u001b[38;5;34m96\u001b[0m, \u001b[38;5;34m96\u001b[0m, \u001b[38;5;34m16\u001b[0m)     │            \u001b[38;5;34m64\u001b[0m │\n",
       "│ (\u001b[38;5;33mBatchNormalization\u001b[0m)            │                        │               │\n",
       "├─────────────────────────────────┼────────────────────────┼───────────────┤\n",
       "│ max_pooling2d_2 (\u001b[38;5;33mMaxPooling2D\u001b[0m)  │ (\u001b[38;5;45mNone\u001b[0m, \u001b[38;5;34m48\u001b[0m, \u001b[38;5;34m48\u001b[0m, \u001b[38;5;34m16\u001b[0m)     │             \u001b[38;5;34m0\u001b[0m │\n",
       "├─────────────────────────────────┼────────────────────────┼───────────────┤\n",
       "│ conv2d_3 (\u001b[38;5;33mConv2D\u001b[0m)               │ (\u001b[38;5;45mNone\u001b[0m, \u001b[38;5;34m48\u001b[0m, \u001b[38;5;34m48\u001b[0m, \u001b[38;5;34m32\u001b[0m)     │         \u001b[38;5;34m4,640\u001b[0m │\n",
       "├─────────────────────────────────┼────────────────────────┼───────────────┤\n",
       "│ batch_normalization_3           │ (\u001b[38;5;45mNone\u001b[0m, \u001b[38;5;34m48\u001b[0m, \u001b[38;5;34m48\u001b[0m, \u001b[38;5;34m32\u001b[0m)     │           \u001b[38;5;34m128\u001b[0m │\n",
       "│ (\u001b[38;5;33mBatchNormalization\u001b[0m)            │                        │               │\n",
       "├─────────────────────────────────┼────────────────────────┼───────────────┤\n",
       "│ max_pooling2d_3 (\u001b[38;5;33mMaxPooling2D\u001b[0m)  │ (\u001b[38;5;45mNone\u001b[0m, \u001b[38;5;34m24\u001b[0m, \u001b[38;5;34m24\u001b[0m, \u001b[38;5;34m32\u001b[0m)     │             \u001b[38;5;34m0\u001b[0m │\n",
       "├─────────────────────────────────┼────────────────────────┼───────────────┤\n",
       "│ conv2d_4 (\u001b[38;5;33mConv2D\u001b[0m)               │ (\u001b[38;5;45mNone\u001b[0m, \u001b[38;5;34m24\u001b[0m, \u001b[38;5;34m24\u001b[0m, \u001b[38;5;34m64\u001b[0m)     │        \u001b[38;5;34m18,496\u001b[0m │\n",
       "├─────────────────────────────────┼────────────────────────┼───────────────┤\n",
       "│ batch_normalization_4           │ (\u001b[38;5;45mNone\u001b[0m, \u001b[38;5;34m24\u001b[0m, \u001b[38;5;34m24\u001b[0m, \u001b[38;5;34m64\u001b[0m)     │           \u001b[38;5;34m256\u001b[0m │\n",
       "│ (\u001b[38;5;33mBatchNormalization\u001b[0m)            │                        │               │\n",
       "├─────────────────────────────────┼────────────────────────┼───────────────┤\n",
       "│ max_pooling2d_4 (\u001b[38;5;33mMaxPooling2D\u001b[0m)  │ (\u001b[38;5;45mNone\u001b[0m, \u001b[38;5;34m12\u001b[0m, \u001b[38;5;34m12\u001b[0m, \u001b[38;5;34m64\u001b[0m)     │             \u001b[38;5;34m0\u001b[0m │\n",
       "├─────────────────────────────────┼────────────────────────┼───────────────┤\n",
       "│ global_average_pooling2d_1      │ (\u001b[38;5;45mNone\u001b[0m, \u001b[38;5;34m64\u001b[0m)             │             \u001b[38;5;34m0\u001b[0m │\n",
       "│ (\u001b[38;5;33mGlobalAveragePooling2D\u001b[0m)        │                        │               │\n",
       "├─────────────────────────────────┼────────────────────────┼───────────────┤\n",
       "│ dense_2 (\u001b[38;5;33mDense\u001b[0m)                 │ (\u001b[38;5;45mNone\u001b[0m, \u001b[38;5;34m64\u001b[0m)             │         \u001b[38;5;34m4,160\u001b[0m │\n",
       "├─────────────────────────────────┼────────────────────────┼───────────────┤\n",
       "│ dropout_1 (\u001b[38;5;33mDropout\u001b[0m)             │ (\u001b[38;5;45mNone\u001b[0m, \u001b[38;5;34m64\u001b[0m)             │             \u001b[38;5;34m0\u001b[0m │\n",
       "├─────────────────────────────────┼────────────────────────┼───────────────┤\n",
       "│ dense_3 (\u001b[38;5;33mDense\u001b[0m)                 │ (\u001b[38;5;45mNone\u001b[0m, \u001b[38;5;34m2\u001b[0m)              │           \u001b[38;5;34m130\u001b[0m │\n",
       "└─────────────────────────────────┴────────────────────────┴───────────────┘\n"
      ]
     },
     "metadata": {},
     "output_type": "display_data"
    },
    {
     "data": {
      "text/html": [
       "<pre style=\"white-space:pre;overflow-x:auto;line-height:normal;font-family:Menlo,'DejaVu Sans Mono',consolas,'Courier New',monospace\"><span style=\"font-weight: bold\"> Total params: </span><span style=\"color: #00af00; text-decoration-color: #00af00\">28,322</span> (110.63 KB)\n",
       "</pre>\n"
      ],
      "text/plain": [
       "\u001b[1m Total params: \u001b[0m\u001b[38;5;34m28,322\u001b[0m (110.63 KB)\n"
      ]
     },
     "metadata": {},
     "output_type": "display_data"
    },
    {
     "data": {
      "text/html": [
       "<pre style=\"white-space:pre;overflow-x:auto;line-height:normal;font-family:Menlo,'DejaVu Sans Mono',consolas,'Courier New',monospace\"><span style=\"font-weight: bold\"> Trainable params: </span><span style=\"color: #00af00; text-decoration-color: #00af00\">28,098</span> (109.76 KB)\n",
       "</pre>\n"
      ],
      "text/plain": [
       "\u001b[1m Trainable params: \u001b[0m\u001b[38;5;34m28,098\u001b[0m (109.76 KB)\n"
      ]
     },
     "metadata": {},
     "output_type": "display_data"
    },
    {
     "data": {
      "text/html": [
       "<pre style=\"white-space:pre;overflow-x:auto;line-height:normal;font-family:Menlo,'DejaVu Sans Mono',consolas,'Courier New',monospace\"><span style=\"font-weight: bold\"> Non-trainable params: </span><span style=\"color: #00af00; text-decoration-color: #00af00\">224</span> (896.00 B)\n",
       "</pre>\n"
      ],
      "text/plain": [
       "\u001b[1m Non-trainable params: \u001b[0m\u001b[38;5;34m224\u001b[0m (896.00 B)\n"
      ]
     },
     "metadata": {},
     "output_type": "display_data"
    }
   ],
   "source": [
    "def createBetterModel(shape):\n",
    "    model = Sequential()\n",
    "    \n",
    "    model.add(Conv2D(16, (3, 3), activation='relu', padding='same', input_shape=shape))\n",
    "    model.add(BatchNormalization())\n",
    "    model.add(MaxPooling2D((2, 2)))\n",
    "    \n",
    "    model.add(Conv2D(32, (3, 3), activation='relu', padding='same'))\n",
    "    model.add(BatchNormalization())\n",
    "    model.add(MaxPooling2D((2, 2)))\n",
    "    \n",
    "    model.add(Conv2D(64, (3, 3), activation='relu', padding='same'))\n",
    "    model.add(BatchNormalization())\n",
    "    model.add(MaxPooling2D((2, 2)))\n",
    "    \n",
    "    model.add(GlobalAveragePooling2D())\n",
    "    \n",
    "    model.add(Dense(64, activation='relu'))\n",
    "    model.add(Dropout(0.5))\n",
    "    \n",
    "    model.add(Dense(2, activation='sigmoid'))\n",
    "    \n",
    "    return model\n",
    "\n",
    "shape = (96, 96, 3)\n",
    "\n",
    "model2 = createBetterModel(shape)\n",
    "\n",
    "model2.compile(optimizer=Adam(learning_rate=0.001), loss='sparse_categorical_crossentropy', metrics=['accuracy'])\n",
    "\n",
    "model2.summary()"
   ]
  },
  {
   "cell_type": "code",
   "execution_count": 12,
   "id": "0e49a794",
   "metadata": {
    "execution": {
     "iopub.execute_input": "2024-10-11T17:45:14.708002Z",
     "iopub.status.busy": "2024-10-11T17:45:14.707217Z",
     "iopub.status.idle": "2024-10-11T19:25:57.626265Z",
     "shell.execute_reply": "2024-10-11T19:25:57.623591Z"
    },
    "papermill": {
     "duration": 6050.498028,
     "end_time": "2024-10-11T19:26:02.393141",
     "exception": false,
     "start_time": "2024-10-11T17:45:11.895113",
     "status": "completed"
    },
    "tags": []
   },
   "outputs": [
    {
     "name": "stdout",
     "output_type": "stream",
     "text": [
      "Epoch 1/5\n",
      "\u001b[1m5501/5501\u001b[0m \u001b[32m━━━━━━━━━━━━━━━━━━━━\u001b[0m\u001b[37m\u001b[0m \u001b[1m1274s\u001b[0m 231ms/step - accuracy: 0.8281 - loss: 0.3976 - val_accuracy: 0.8700 - val_loss: 0.3158\n",
      "Epoch 2/5\n",
      "\u001b[1m5501/5501\u001b[0m \u001b[32m━━━━━━━━━━━━━━━━━━━━\u001b[0m\u001b[37m\u001b[0m \u001b[1m1213s\u001b[0m 220ms/step - accuracy: 0.8876 - loss: 0.2806 - val_accuracy: 0.8698 - val_loss: 0.3063\n",
      "Epoch 3/5\n",
      "\u001b[1m5501/5501\u001b[0m \u001b[32m━━━━━━━━━━━━━━━━━━━━\u001b[0m\u001b[37m\u001b[0m \u001b[1m1202s\u001b[0m 218ms/step - accuracy: 0.9046 - loss: 0.2484 - val_accuracy: 0.8936 - val_loss: 0.2667\n",
      "Epoch 4/5\n",
      "\u001b[1m5501/5501\u001b[0m \u001b[32m━━━━━━━━━━━━━━━━━━━━\u001b[0m\u001b[37m\u001b[0m \u001b[1m1183s\u001b[0m 215ms/step - accuracy: 0.9147 - loss: 0.2239 - val_accuracy: 0.7413 - val_loss: 1.7828\n",
      "Epoch 5/5\n",
      "\u001b[1m5501/5501\u001b[0m \u001b[32m━━━━━━━━━━━━━━━━━━━━\u001b[0m\u001b[37m\u001b[0m \u001b[1m1170s\u001b[0m 213ms/step - accuracy: 0.9200 - loss: 0.2120 - val_accuracy: 0.8971 - val_loss: 0.2627\n"
     ]
    }
   ],
   "source": [
    "historyBetter = model2.fit(trainData,\n",
    "                           epochs = 5,\n",
    "                           batch_size = 64,\n",
    "                           validation_data = valData)"
   ]
  },
  {
   "cell_type": "markdown",
   "id": "18550037",
   "metadata": {
    "papermill": {
     "duration": 4.593164,
     "end_time": "2024-10-11T19:26:11.888145",
     "exception": false,
     "start_time": "2024-10-11T19:26:07.294981",
     "status": "completed"
    },
    "tags": []
   },
   "source": [
    "Our assumption was right that our training accuracy would improve over the base model, so next we'll take a look at overall performance."
   ]
  },
  {
   "cell_type": "markdown",
   "id": "ef631621",
   "metadata": {
    "papermill": {
     "duration": 6.222971,
     "end_time": "2024-10-11T19:26:24.085234",
     "exception": false,
     "start_time": "2024-10-11T19:26:17.862263",
     "status": "completed"
    },
    "tags": []
   },
   "source": [
    "# Results"
   ]
  },
  {
   "cell_type": "markdown",
   "id": "b2f9f963",
   "metadata": {
    "papermill": {
     "duration": 8.339721,
     "end_time": "2024-10-11T19:26:38.385921",
     "exception": false,
     "start_time": "2024-10-11T19:26:30.046200",
     "status": "completed"
    },
    "tags": []
   },
   "source": [
    "Let's compare our base model and improved model, both of which had 5 epochs to train and a batch size of 64 images. We'll look at Training Loss and Training Accuracy."
   ]
  },
  {
   "cell_type": "code",
   "execution_count": 13,
   "id": "2fe8984d",
   "metadata": {
    "execution": {
     "iopub.execute_input": "2024-10-11T19:26:47.913454Z",
     "iopub.status.busy": "2024-10-11T19:26:47.912633Z",
     "iopub.status.idle": "2024-10-11T19:26:48.726876Z",
     "shell.execute_reply": "2024-10-11T19:26:48.725575Z"
    },
    "papermill": {
     "duration": 5.48094,
     "end_time": "2024-10-11T19:26:48.729347",
     "exception": false,
     "start_time": "2024-10-11T19:26:43.248407",
     "status": "completed"
    },
    "tags": []
   },
   "outputs": [
    {
     "data": {
      "image/png": "[encoded data removed]",
      "text/plain": [
       "<Figure size 1000x600 with 2 Axes>"
      ]
     },
     "metadata": {},
     "output_type": "display_data"
    }
   ],
   "source": [
    "plt.figure(figsize=(10,6))\n",
    "\n",
    "plt.subplot(1,2,1)\n",
    "plt.plot(range(1, len(historyLongEpoch.history['loss']) + 1), historyLongEpoch.history['loss'], label='Base Model')\n",
    "plt.plot(range(1, len(historyBetter.history['loss']) + 1), historyBetter.history['loss'], label='Improved Model')\n",
    "plt.title('Training Loss')\n",
    "plt.xlabel('Epochs')\n",
    "plt.ylabel('Loss')\n",
    "plt.legend()\n",
    "\n",
    "plt.subplot(1,2,2)\n",
    "plt.plot(range(1, len(historyLongEpoch.history['accuracy']) + 1), historyLongEpoch.history['accuracy'], label='Base Model')\n",
    "plt.plot(range(1, len(historyBetter.history['accuracy']) + 1), historyBetter.history['accuracy'], label='Improved Model')\n",
    "plt.title('Training Accuracy')\n",
    "plt.xlabel('Epochs')\n",
    "plt.ylabel('Accuracy')\n",
    "plt.legend()\n",
    "\n",
    "plt.tight_layout()\n",
    "plt.show()"
   ]
  },
  {
   "cell_type": "markdown",
   "id": "5bbbee0e",
   "metadata": {
    "papermill": {
     "duration": 4.948235,
     "end_time": "2024-10-11T19:26:58.387670",
     "exception": false,
     "start_time": "2024-10-11T19:26:53.439435",
     "status": "completed"
    },
    "tags": []
   },
   "source": [
    "As we can see, our training loss drops considerably in the improved model, and ends with 6% lower loss than the base model. The accuracy is also notably better, with an increase of 3%. By adding in the extra filters we introduce deeper feature extraction and increased capacity, leading to these improvements."
   ]
  },
  {
   "cell_type": "markdown",
   "id": "77cd2aa3",
   "metadata": {
    "papermill": {
     "duration": 4.812298,
     "end_time": "2024-10-11T19:27:07.789915",
     "exception": false,
     "start_time": "2024-10-11T19:27:02.977617",
     "status": "completed"
    },
    "tags": []
   },
   "source": [
    "Now we can look at the classification report to see how our model performs on the validation data."
   ]
  },
  {
   "cell_type": "code",
   "execution_count": 14,
   "id": "bdc8e9c2",
   "metadata": {
    "execution": {
     "iopub.execute_input": "2024-10-11T19:27:17.259779Z",
     "iopub.status.busy": "2024-10-11T19:27:17.259316Z",
     "iopub.status.idle": "2024-10-11T19:32:01.681666Z",
     "shell.execute_reply": "2024-10-11T19:32:01.680450Z"
    },
    "papermill": {
     "duration": 289.061405,
     "end_time": "2024-10-11T19:32:01.684189",
     "exception": false,
     "start_time": "2024-10-11T19:27:12.622784",
     "status": "completed"
    },
    "tags": []
   },
   "outputs": [
    {
     "name": "stdout",
     "output_type": "stream",
     "text": [
      "\u001b[1m1376/1376\u001b[0m \u001b[32m━━━━━━━━━━━━━━━━━━━━\u001b[0m\u001b[37m\u001b[0m \u001b[1m182s\u001b[0m 132ms/step\n",
      "              precision    recall  f1-score   support\n",
      "\n",
      "           0       0.60      0.58      0.59     26182\n",
      "           1       0.41      0.43      0.42     17823\n",
      "\n",
      "    accuracy                           0.51     44005\n",
      "   macro avg       0.50      0.50      0.50     44005\n",
      "weighted avg       0.52      0.51      0.52     44005\n",
      "\n",
      "\u001b[1m1376/1376\u001b[0m \u001b[32m━━━━━━━━━━━━━━━━━━━━\u001b[0m\u001b[37m\u001b[0m \u001b[1m100s\u001b[0m 73ms/step\n",
      "              precision    recall  f1-score   support\n",
      "\n",
      "           0       0.60      0.67      0.63     26182\n",
      "           1       0.41      0.34      0.37     17823\n",
      "\n",
      "    accuracy                           0.53     44005\n",
      "   macro avg       0.50      0.50      0.50     44005\n",
      "weighted avg       0.52      0.53      0.52     44005\n",
      "\n"
     ]
    }
   ],
   "source": [
    "yPredBase = np.round(modelLongEpoch.predict(valData))\n",
    "report1 = classification_report(valLab['label'].astype(int), np.argmax(yPredBase, axis=1))\n",
    "print(report1)\n",
    "\n",
    "yPredBetter = np.round(model2.predict(valData))\n",
    "report2 = classification_report(valLab['label'].astype(int), np.argmax(yPredBetter, axis=1))\n",
    "print(report2)"
   ]
  },
  {
   "cell_type": "markdown",
   "id": "bbab5235",
   "metadata": {
    "papermill": {
     "duration": 5.017859,
     "end_time": "2024-10-11T19:32:11.540205",
     "exception": false,
     "start_time": "2024-10-11T19:32:06.522346",
     "status": "completed"
    },
    "tags": []
   },
   "source": [
    "As you can see, our model performs very poorly on the validation data, only acheiving an accuracy of 53% on the base model and 52% on the improved model. We'll discuss more in the next section on potential short-comings."
   ]
  },
  {
   "cell_type": "markdown",
   "id": "6a6e77a3",
   "metadata": {
    "papermill": {
     "duration": 5.009181,
     "end_time": "2024-10-11T19:32:21.404351",
     "exception": false,
     "start_time": "2024-10-11T19:32:16.395170",
     "status": "completed"
    },
    "tags": []
   },
   "source": [
    "# Conclusion and Discussion"
   ]
  },
  {
   "cell_type": "markdown",
   "id": "d12e87f4",
   "metadata": {
    "papermill": {
     "duration": 5.020517,
     "end_time": "2024-10-11T19:32:31.222150",
     "exception": false,
     "start_time": "2024-10-11T19:32:26.201633",
     "status": "completed"
    },
    "tags": []
   },
   "source": [
    "As we mentioned, we obtained training accuracies of around 90% on both the base and improved models, but only 50% on each on the validation data. Why is that?\n",
    "1. The model may be too complex for the amount of training data available. With multiple convolutional layers and dense layers, it could be learning patterns too specific to the training data and failing to generalize. \n",
    "2. The dropout rate may not be good enough, and not allowing for proper regularization.\n",
    "3. We potentially let the model train for too many epochs, and we would have benefitted by using less epochs in the long run.\n",
    "4. We did not tune the learning rate, which could help in optimizing the model for the validation data.\n",
    "\n",
    "In the end, we will still submit the \"improved\" model to place on the leaderboard somewhere."
   ]
  },
  {
   "cell_type": "code",
   "execution_count": 15,
   "id": "60c8172e",
   "metadata": {
    "execution": {
     "iopub.execute_input": "2024-10-11T19:32:41.045517Z",
     "iopub.status.busy": "2024-10-11T19:32:41.044299Z",
     "iopub.status.idle": "2024-10-11T19:40:27.718580Z",
     "shell.execute_reply": "2024-10-11T19:40:27.717334Z"
    },
    "papermill": {
     "duration": 471.704213,
     "end_time": "2024-10-11T19:40:27.721397",
     "exception": false,
     "start_time": "2024-10-11T19:32:36.017184",
     "status": "completed"
    },
    "tags": []
   },
   "outputs": [
    {
     "name": "stdout",
     "output_type": "stream",
     "text": [
      "Total test images: 57458\n",
      "Found 57458 validated image filenames.\n"
     ]
    },
    {
     "name": "stderr",
     "output_type": "stream",
     "text": [
      "/opt/conda/lib/python3.10/site-packages/keras/src/trainers/data_adapters/py_dataset_adapter.py:121: UserWarning: Your `PyDataset` class should call `super().__init__(**kwargs)` in its constructor. `**kwargs` can include `workers`, `use_multiprocessing`, `max_queue_size`. Do not pass these arguments to `fit()`, as they will be ignored.\n",
      "  self._warn_if_super_not_called()\n"
     ]
    },
    {
     "name": "stdout",
     "output_type": "stream",
     "text": [
      "\u001b[1m1796/1796\u001b[0m \u001b[32m━━━━━━━━━━━━━━━━━━━━\u001b[0m\u001b[37m\u001b[0m \u001b[1m353s\u001b[0m 197ms/step\n",
      "                                         id  label\n",
      "0  a7ea26360815d8492433b14cd8318607bcf99d9e      0\n",
      "1  59d21133c845dff1ebc7a0c7cf40c145ea9e9664      0\n",
      "2  5fde41ce8c6048a5c2f38eca12d6528fa312cdbb      0\n",
      "3  bd953a3b1db1f7041ee95ff482594c4f46c73ed0      0\n",
      "4  523fc2efd7aba53e597ab0f69cc2cbded7a6ce62      0\n"
     ]
    },
    {
     "name": "stderr",
     "output_type": "stream",
     "text": [
      "/tmp/ipykernel_17/3679794336.py:21: SettingWithCopyWarning: \n",
      "A value is trying to be set on a copy of a slice from a DataFrame.\n",
      "Try using .loc[row_indexer,col_indexer] = value instead\n",
      "\n",
      "See the caveats in the documentation: https://pandas.pydata.org/pandas-docs/stable/user_guide/indexing.html#returning-a-view-versus-a-copy\n",
      "  submission['label'] = submission['label'].clip(0,1)\n"
     ]
    }
   ],
   "source": [
    "testFileNames = os.listdir(testPath)\n",
    "print(f\"Total test images: {len(testFileNames)}\")\n",
    "\n",
    "testDf = pd.DataFrame({'path': testFileNames})\n",
    "testGen = ImageDataGenerator(rescale = 1./255)\n",
    "\n",
    "testData = testGen.flow_from_dataframe(dataframe = testDf,\n",
    "                                        directory = testPath,\n",
    "                                        x_col = 'path',\n",
    "                                        y_col = None,\n",
    "                                        target_size = (96,96),\n",
    "                                        batch_size = 32,\n",
    "                                        class_mode = None,\n",
    "                                        shuffle=False)\n",
    "\n",
    "yTest = np.round(model2.predict(testData, verbose=1))\n",
    "testDf['id'] = testDf['path'].str.replace('.tif','',regex=False)\n",
    "testDf['label'] = np.argmax(yTest, axis=1)\n",
    "\n",
    "submission = testDf[['id', 'label']]\n",
    "submission['label'] = submission['label'].clip(0,1)\n",
    "\n",
    "submission.to_csv('submission.csv', index=False)\n",
    "print(submission.head())"
   ]
  }
 ],
 "metadata": {
  "kaggle": {
   "accelerator": "none",
   "dataSources": [
    {
     "databundleVersionId": 862157,
     "sourceId": 11848,
     "sourceType": "competition"
    }
   ],
   "dockerImageVersionId": 30775,
   "isGpuEnabled": false,
   "isInternetEnabled": true,
   "language": "python",
   "sourceType": "notebook"
  },
  "kernelspec": {
   "display_name": "Python 3",
   "language": "python",
   "name": "python3"
  },
  "language_info": {
   "codemirror_mode": {
    "name": "ipython",
    "version": 3
   },
   "file_extension": ".py",
   "mimetype": "text/x-python",
   "name": "python",
   "nbconvert_exporter": "python",
   "pygments_lexer": "ipython3",
   "version": "3.10.14"
  },
  "papermill": {
   "default_parameters": {},
   "duration": 15578.355864,
   "end_time": "2024-10-11T19:40:35.770804",
   "environment_variables": {},
   "exception": null,
   "input_path": "__notebook__.ipynb",
   "output_path": "__notebook__.ipynb",
   "parameters": {},
   "start_time": "2024-10-11T15:20:57.414940",
   "version": "2.6.0"
  }
 },
 "nbformat": 4,
 "nbformat_minor": 5
}
